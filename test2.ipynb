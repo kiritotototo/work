{
 "cells": [
  {
   "cell_type": "markdown",
   "id": "23d6839a",
   "metadata": {},
   "source": [
    "## <font color=\"Red\"> 3.1. 請寫一段程式碼，進行下列資訊判斷：\n",
    "<font color=\"Red\">\n",
    "你住在淡水嗎？(Yes/No)Yes 請輸入你的年級數字：4\n",
    "\n",
    "住在淡水，4年級或以上，早上可能沒課！\n",
    "住在淡水，4年級以下，早上可能有課，但是不用早起！\n",
    "不住在淡水，4年級或以上，早上可能沒課，但是不用早起！\n",
    "不住在淡水，4年級以下，早上可能有課，需要早起！\n",
    "Examples:\n",
    "你住在淡水嗎？(Yes/No)Yes\n",
    "請輸入你的年級數字：4\n",
    "你住在淡水，你是4年級，早上的課不需要早起！\n",
    "\n",
    "你住在淡水嗎？(Yes/No)Yes\n",
    "請輸入你的年級數字：3\n",
    "你住在淡水，你是3年級，早上可能有課，但是不用早起！\n",
    "\n",
    "你住在淡水嗎？(Yes/No)No\n",
    "請輸入你的年級數字：4\n",
    "你不住在淡水，你是4年級，早上可能沒課，但是不用早起\n",
    "\n",
    "你住在淡水嗎？(Yes/No)No\n",
    "請輸入你的年級數字：3\n",
    "你不住在淡水，你是3年級，早上可能有課，需要早起！"
   ]
  },
  {
   "cell_type": "code",
   "execution_count": 6,
   "id": "533e9455",
   "metadata": {},
   "outputs": [
    {
     "name": "stdout",
     "output_type": "stream",
     "text": [
      "你住在淡水嗎？(Yes/No)Yes\n",
      "請輸入你的年級數字：3\n",
      "你住在淡水，你是3年級，早上可能有課，但是不用早起！\n"
     ]
    }
   ],
   "source": [
    "#-------------------- Code Here -------------------#\n",
    "live= str(input(\"你住在淡水嗎？(Yes/No)\"))\n",
    "grade=int(input(\"請輸入你的年級數字：\"))\n",
    "if grade>=4:\n",
    "    if live=='Yes':\n",
    "        print(\"你住在淡水，你是\"+str(grade)+\"年級，早上可能沒課!\")\n",
    "    elif  live=='No' :\n",
    "        print(\"你不住在淡水，你是\"+str(grade)+\"年級，早上可能沒課，但是不用早起!\")\n",
    "elif grade<=3:\n",
    "    if live=='Yes':\n",
    "        print(\"你住在淡水，你是\"+str(grade)+\"年級，早上可能有課，但是不用早起！\")\n",
    "    elif  live=='No' :\n",
    "        print(\"你不住在淡水，你是\"+str(grade)+\"年級，早上可能有課，需要早起!\")\n",
    "#-------------------- Stop Here -------------------#    "
   ]
  },
  {
   "cell_type": "markdown",
   "id": "6021071e",
   "metadata": {},
   "source": [
    "## <font color=\"Red\"> 3.2. 寫一段程式碼，顯示輸入句子中，特定符號的出現次數  \n",
    "<font color=\"Red\">\n",
    "    \n",
    "參考程式碼：      \n",
    "LoopString = 'Python'             \n",
    "for Word in LoopString:             \n",
    "&nbsp;&nbsp;&nbsp;&nbsp;     print(Word)          \n",
    "\n",
    "輸出結果範例:   \n",
    "1. 句子：Today is a good day 中，符號 s 總共出現1次   \n",
    "2. 句子：Today is a good day 中，符號 o 總共出現3次   \n",
    "3. 句子：Today is a good day 中，符號 y 總共出現2次  \n",
    "4. 句子：Today is a good day 中，符號 d 總共出現3次  "
   ]
  },
  {
   "cell_type": "code",
   "execution_count": 43,
   "id": "9dba4659",
   "metadata": {
    "scrolled": true
   },
   "outputs": [
    {
     "name": "stdout",
     "output_type": "stream",
     "text": [
      "1.句子：Today is a good day中，符號T總共出現1次\n",
      "2.句子：Today is a good day中，符號o總共出現3次\n",
      "3.句子：Today is a good day中，符號d總共出現3次\n",
      "4.句子：Today is a good day中，符號a總共出現3次\n",
      "5.句子：Today is a good day中，符號y總共出現2次\n",
      "6.句子：Today is a good day中，符號 總共出現4次\n",
      "7.句子：Today is a good day中，符號i總共出現1次\n",
      "8.句子：Today is a good day中，符號s總共出現1次\n",
      "9.句子：Today is a good day中，符號g總共出現1次\n"
     ]
    }
   ],
   "source": [
    "LoopString = 'Today is a good day'\n",
    "#-------------------- Code Here -------------------#\n",
    "dict1={}\n",
    "i=1\n",
    "for Word in LoopString:\n",
    "    if Word in dict1:\n",
    "         dict1[Word]+=1\n",
    "         continue\n",
    "    dict1[Word]=1\n",
    "for count in  dict1:\n",
    "    print (f\"{i}.句子：{LoopString}中，符號{count}總共出現{dict1[count]}次\")\n",
    "    i+=1\n",
    "#-------------------- Stop Here -------------------#"
   ]
  }
 ],
 "metadata": {
  "kernelspec": {
   "display_name": "Python 3 (ipykernel)",
   "language": "python",
   "name": "python3"
  },
  "language_info": {
   "codemirror_mode": {
    "name": "ipython",
    "version": 3
   },
   "file_extension": ".py",
   "mimetype": "text/x-python",
   "name": "python",
   "nbconvert_exporter": "python",
   "pygments_lexer": "ipython3",
   "version": "3.9.12"
  }
 },
 "nbformat": 4,
 "nbformat_minor": 5
}
